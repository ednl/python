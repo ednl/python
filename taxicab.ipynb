{
 "cells": [
  {
   "attachments": {},
   "cell_type": "markdown",
   "metadata": {},
   "source": [
    "# Programmeeropdracht voor eerstejaars natuurkunde aan de UvA\n",
    "via [Ivo van Vulpen](https://twitter.com/IvovanVulpen/status/1585907956071432198)\n",
    "\n",
    "Vind het kleinste getal groter dan 1729 dat op twee verschillende manieren als som van twee derde-machten geschreven kan worden."
   ]
  },
  {
   "cell_type": "code",
   "execution_count": 1,
   "metadata": {},
   "outputs": [
    {
     "name": "stdout",
     "output_type": "stream",
     "text": [
      "2 ^3 + 16 ^3 = 4104\n",
      "9 ^3 + 15 ^3 = 4104\n"
     ]
    }
   ],
   "source": [
    "def next_taxicab(n):\n",
    "    c = c3 = 1\n",
    "    while c3 < n:\n",
    "        c += 1\n",
    "        c3 = c * c * c\n",
    "    while True:\n",
    "        sol = []\n",
    "        if c3 < n:\n",
    "            c += 1\n",
    "            c3 = c * c * c\n",
    "        n += 1\n",
    "        a = a3 = 1\n",
    "        b = c\n",
    "        b3 = c3\n",
    "        while a <= b:\n",
    "            while a <= b and a3 + b3 > n:\n",
    "                b -= 1\n",
    "                b3 = b * b * b\n",
    "            while a <= b and a3 + b3 < n:\n",
    "                a += 1\n",
    "                a3 = a * a * a\n",
    "            if a <= b and a3 + b3 == n:\n",
    "                sol.append((a, b, n))\n",
    "                if len(sol) == 2:\n",
    "                    return sol\n",
    "                b -= 1\n",
    "                b3 = b * b * b\n",
    "\n",
    "for a, b, n in next_taxicab(1729):\n",
    "    print(a, \"^3 +\", b, \"^3 =\", n)"
   ]
  }
 ],
 "metadata": {
  "kernelspec": {
   "display_name": "Python 3",
   "language": "python",
   "name": "python3"
  },
  "language_info": {
   "codemirror_mode": {
    "name": "ipython",
    "version": 3
   },
   "file_extension": ".py",
   "mimetype": "text/x-python",
   "name": "python",
   "nbconvert_exporter": "python",
   "pygments_lexer": "ipython3",
   "version": "3.10.9"
  },
  "orig_nbformat": 4,
  "vscode": {
   "interpreter": {
    "hash": "610c699f0cd8c4f129acd9140687fff6866bed0eb8e82f249fc8848b827b628c"
   }
  }
 },
 "nbformat": 4,
 "nbformat_minor": 2
}
