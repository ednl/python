{
 "cells": [
  {
   "cell_type": "markdown",
   "id": "8ede0a4f-cf7e-462f-9244-b47f039fc135",
   "metadata": {},
   "source": [
    "# Tricylinder Volume\n",
    "A tricylinder is a [Steinmetz solid](https://en.wikipedia.org/wiki/Steinmetz_solid) defined by the intersection of three orthogonal cylinders with identical radius $r$. The volume of such a tricylinder is\n",
    "$$\n",
    "V=8(2-\\sqrt{2})r^3\n",
    "$$\n",
    "\n",
    "Assignment via [Ivo van Vulpen](https://bsky.app/profile/ivovanvulpen.bsky.social/post/3lbsg6ex3dc2y): use the Monte Carlo method to find the volume of a tricylinder with radius 1 to two decimals. Check the stability of your answer."
   ]
  },
  {
   "cell_type": "code",
   "execution_count": 1,
   "id": "0327b4ad-b146-44f3-8e02-fdc5349648fd",
   "metadata": {},
   "outputs": [
    {
     "name": "stdout",
     "output_type": "stream",
     "text": [
      "calculation =  4.6863\n",
      "monte carlo =  4.69 ± 0.01 (N=2014000)\n",
      "error       = +0.004\n"
     ]
    }
   ],
   "source": [
    "from math import sqrt\n",
    "from random import seed, uniform\n",
    "\n",
    "# Seed random number generator\n",
    "seed()\n",
    "\n",
    "# Geometric constants\n",
    "R = 1.0\n",
    "DIAM = R * 2\n",
    "CUBE = DIAM * DIAM * DIAM\n",
    "FRAC = 2 - sqrt(2)\n",
    "CALC = FRAC * CUBE\n",
    "\n",
    "# Simulation parameters\n",
    "ERROR = 0.01\n",
    "BATCH = 1000\n",
    "\n",
    "# Random number from interval [-1,1]\n",
    "def rnd():\n",
    "    return uniform(-1, 1)\n",
    "\n",
    "# Is (x,y,z) inside the Steinmetz solid?\n",
    "def inside(x, y, z):\n",
    "    a = x * x\n",
    "    b = y * y\n",
    "    c = z * z\n",
    "    return a + b <= R and a + c <= R and b + c <= R\n",
    "\n",
    "# Init\n",
    "hit = count = 0     # Monte Carlo simulation counters\n",
    "mean = m2 = 0       # running mean, unscaled variance\n",
    "stddev = ERROR * 2  # dummy init value, must be greater than ERROR\n",
    "\n",
    "# Monte Carlo method until standard deviation is small enough\n",
    "while stddev > ERROR:\n",
    "    # Single iteration wouldn't change stddev much\n",
    "    for _ in range(BATCH):\n",
    "        # Get new Monte Carlo sample\n",
    "        count += 1\n",
    "        hit += 1 if inside(rnd(), rnd(), rnd()) else 0\n",
    "        # Currently estimated value\n",
    "        frac = hit / count\n",
    "        estm = frac * CUBE\n",
    "        # Update running mean and unscaled variance\n",
    "        # https://en.wikipedia.org/wiki/Algorithms_for_calculating_variance#Welford%27s_online_algorithm\n",
    "        delta = estm - mean\n",
    "        mean += delta / count\n",
    "        m2 += delta * (estm - mean)\n",
    "    # Scale as population variance (= exact variance of given data)\n",
    "    # and take square root for standard deviation\n",
    "    stddev = sqrt(m2 / count)\n",
    "\n",
    "# Results\n",
    "print('calculation =  {:.4f}'.format(CALC))\n",
    "print('monte carlo =  {:.2f} ± {:.2f} (N={:d})'.format(mean, stddev, count))\n",
    "print('error       = {:+.3f}'.format(mean - CALC))"
   ]
  },
  {
   "cell_type": "code",
   "execution_count": null,
   "id": "459c2136-6e1c-4a2a-9fd3-0dd7a1ad21d5",
   "metadata": {},
   "outputs": [],
   "source": []
  }
 ],
 "metadata": {
  "kernelspec": {
   "display_name": "Python 3",
   "language": "python",
   "name": "python3"
  },
  "language_info": {
   "codemirror_mode": {
    "name": "ipython",
    "version": 3
   },
   "file_extension": ".py",
   "mimetype": "text/x-python",
   "name": "python",
   "nbconvert_exporter": "python",
   "pygments_lexer": "ipython3",
   "version": "3.12.7"
  }
 },
 "nbformat": 4,
 "nbformat_minor": 5
}
