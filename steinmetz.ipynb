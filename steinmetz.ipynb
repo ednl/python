{
 "cells": [
  {
   "cell_type": "markdown",
   "id": "8ede0a4f-cf7e-462f-9244-b47f039fc135",
   "metadata": {},
   "source": [
    "# Tricylinder Volume\n",
    "A tricylinder is a [Steinmetz solid](https://en.wikipedia.org/wiki/Steinmetz_solid) defined by the intersection of three orthogonal cylinders with identical radius $r$. The volume of such a tricylinder is\n",
    "$$\n",
    "V=8(2-\\sqrt{2})r^3\n",
    "$$\n",
    "\n",
    "Assignment via [Ivo van Vulpen](https://bsky.app/profile/ivovanvulpen.bsky.social/post/3lbsg6ex3dc2y): use the Monte Carlo method to find the volume of a tricylinder with radius 1 to two decimals. Check the stability of your answer."
   ]
  },
  {
   "cell_type": "code",
   "execution_count": 1,
   "id": "0327b4ad-b146-44f3-8e02-fdc5349648fd",
   "metadata": {},
   "outputs": [
    {
     "name": "stdout",
     "output_type": "stream",
     "text": [
      "calculated  =  4.6863\n",
      "monte carlo =  4.69 ± 0.01 (N=1928000)\n",
      "deviation   = +0.003\n"
     ]
    }
   ],
   "source": [
    "from math import sqrt\n",
    "from random import seed, uniform\n",
    "\n",
    "seed()\n",
    "R = 1.0\n",
    "VOL = 8 * R * R * R\n",
    "EPS = 0.01\n",
    "CHUNK = 1000\n",
    "\n",
    "def tricylinder(radius):\n",
    "    d = radius * 2\n",
    "    return (2 - sqrt(2)) * d * d * d\n",
    "\n",
    "def rnd():\n",
    "    return uniform(-1, 1)\n",
    "\n",
    "def inside(x, y, z):\n",
    "    a = x * x\n",
    "    b = y * y\n",
    "    c = z * z\n",
    "    return a + b <= 1 and a + c <= 1 and b + c <= 1\n",
    "\n",
    "hit = count = 0\n",
    "mean = M2 = 0\n",
    "std = EPS * 2\n",
    "\n",
    "while std >= EPS:\n",
    "    for _ in range(CHUNK):\n",
    "        count += 1\n",
    "        hit += 1 if inside(rnd(), rnd(), rnd()) else 0\n",
    "        volume = hit / count * VOL\n",
    "        delta = volume - mean\n",
    "        mean += delta / count\n",
    "        M2 += delta * (volume - mean)\n",
    "    std = sqrt(M2 / count)\n",
    "\n",
    "calc = tricylinder(R)\n",
    "err = mean - calc\n",
    "\n",
    "print('calculated  =  {:.4f}'.format(calc))\n",
    "print('monte carlo =  {:.2f} ± {:.2f} (N={:d})'.format(mean, std, count))\n",
    "print('deviation   = {:+.3f}'.format(err))"
   ]
  },
  {
   "cell_type": "code",
   "execution_count": null,
   "id": "459c2136-6e1c-4a2a-9fd3-0dd7a1ad21d5",
   "metadata": {},
   "outputs": [],
   "source": []
  }
 ],
 "metadata": {
  "kernelspec": {
   "display_name": "Python 3 (ipykernel)",
   "language": "python",
   "name": "python3"
  },
  "language_info": {
   "codemirror_mode": {
    "name": "ipython",
    "version": 3
   },
   "file_extension": ".py",
   "mimetype": "text/x-python",
   "name": "python",
   "nbconvert_exporter": "python",
   "pygments_lexer": "ipython3",
   "version": "3.12.7"
  }
 },
 "nbformat": 4,
 "nbformat_minor": 5
}
