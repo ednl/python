{
 "cells": [
  {
   "cell_type": "markdown",
   "id": "8ede0a4f-cf7e-462f-9244-b47f039fc135",
   "metadata": {},
   "source": [
    "# Tricylinder Volume\n",
    "A tricylinder is a [Steinmetz solid](https://en.wikipedia.org/wiki/Steinmetz_solid) defined by the intersection of three orthogonal cylinders with identical radius $r$. The volume of such a tricylinder is\n",
    "$$\n",
    "V=8(2-\\sqrt{2})r^3\n",
    "$$\n",
    "\n",
    "Assignment via [Ivo van Vulpen](https://bsky.app/profile/ivovanvulpen.bsky.social/post/3lbsg6ex3dc2y): use the Monte Carlo method to find the volume of a tricylinder with radius 1 to two decimals. Check the stability of your answer."
   ]
  },
  {
   "cell_type": "code",
   "execution_count": null,
   "id": "0327b4ad-b146-44f3-8e02-fdc5349648fd",
   "metadata": {},
   "outputs": [
    {
     "name": "stdout",
     "output_type": "stream",
     "text": [
      "calculation =  4.6863\n",
      "monte carlo =  4.69 ± 0.01 (N=1562000)\n",
      "error       = +0.001\n"
     ]
    }
   ],
   "source": [
    "from math import sqrt\n",
    "from random import seed, uniform\n",
    "\n",
    "# Seed random number generator\n",
    "seed()\n",
    "\n",
    "# Geometric constants\n",
    "R = 1.0\n",
    "DIAM = R * 2\n",
    "CUBE = DIAM * DIAM * DIAM\n",
    "TRIVOL = 2 - sqrt(2)\n",
    "\n",
    "# Simulation parameters\n",
    "EPS = 0.01\n",
    "CHUNK = 1000\n",
    "\n",
    "# Calculate tricylinder volume\n",
    "def tricylinder(radius):\n",
    "    d = radius * 2\n",
    "    return TRIVOL * d * d * d\n",
    "\n",
    "# Random number from interval [-1,1]\n",
    "def rnd():\n",
    "    return uniform(-1, 1)\n",
    "\n",
    "# Is (x,y,z) inside the Steinmetz solid?\n",
    "def inside(x, y, z):\n",
    "    a = x * x\n",
    "    b = y * y\n",
    "    c = z * z\n",
    "    return a + b <= R and a + c <= R and b + c <= R\n",
    "\n",
    "# Init\n",
    "hit = count = 0\n",
    "mean = m2 = 0\n",
    "stddev = EPS * 2\n",
    "\n",
    "# Monte Carlo method until standard deviation is small enough\n",
    "while stddev >= EPS:\n",
    "    # Series of simulation steps or stddev won't change much\n",
    "    for _ in range(CHUNK):\n",
    "        count += 1\n",
    "        hit += 1 if inside(rnd(), rnd(), rnd()) else 0\n",
    "        frac = hit / count\n",
    "        curval = frac * CUBE\n",
    "        delta = curval - mean\n",
    "        mean += delta / count  # running mean\n",
    "        m2 += delta * (curval - mean)\n",
    "    stddev = sqrt(m2 / count)\n",
    "\n",
    "# Compare to calculated value\n",
    "calc = tricylinder(R)\n",
    "err = mean - calc\n",
    "\n",
    "print('calculation =  {:.4f}'.format(calc))\n",
    "print('monte carlo =  {:.2f} ± {:.2f} (N={:d})'.format(mean, stddev, count))\n",
    "print('error       = {:+.3f}'.format(err))"
   ]
  },
  {
   "cell_type": "code",
   "execution_count": null,
   "id": "459c2136-6e1c-4a2a-9fd3-0dd7a1ad21d5",
   "metadata": {},
   "outputs": [],
   "source": []
  }
 ],
 "metadata": {
  "kernelspec": {
   "display_name": "Python 3",
   "language": "python",
   "name": "python3"
  },
  "language_info": {
   "codemirror_mode": {
    "name": "ipython",
    "version": 3
   },
   "file_extension": ".py",
   "mimetype": "text/x-python",
   "name": "python",
   "nbconvert_exporter": "python",
   "pygments_lexer": "ipython3",
   "version": "3.12.7"
  }
 },
 "nbformat": 4,
 "nbformat_minor": 5
}
